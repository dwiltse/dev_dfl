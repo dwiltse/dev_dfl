{
 "cells": [
  {
   "cell_type": "markdown",
   "id": "111cb342",
   "metadata": {},
   "source": [
    "# NFL Teams Data Ingestion\n",
    "This notebook loads NFL team information from nflreadr package to ADLS.\n",
    "\n",
    "**USAGE**: This notebook is designed to be run on-demand only, not scheduled.\n",
    "Run this job only when:\n",
    "1. Initial data load\n",
    "2. NFL team relocations (e.g., Raiders to Las Vegas)\n",
    "3. Team rebrands (e.g., Washington Football Team to Commanders)\n",
    "4. League expansion (extremely rare)"
   ]
  },
  {
   "cell_type": "code",
   "execution_count": null,
   "id": "b6ff5c67",
   "metadata": {
    "vscode": {
     "languageId": "r"
    }
   },
   "outputs": [],
   "source": [
    "# Install and load R packages\n",
    "print(\"Installing and loading R packages...\")\n",
    "if(!require(arrow)) {\n",
    "    install.packages(\"arrow\", repos=\"https://cloud.r-project.org\", quiet=TRUE)\n",
    "}\n",
    "if(!require(nflreadr)) {\n",
    "    install.packages(\"nflreadr\", repos=\"https://cloud.r-project.org\", quiet=TRUE)\n",
    "}\n",
    "if(!require(tidyverse)) {\n",
    "    install.packages(\"tidyverse\", repos=\"https://cloud.r-project.org\", quiet=TRUE)\n",
    "}\n",
    "\n",
    "library(nflreadr)\n",
    "library(tidyverse)\n",
    "library(arrow)"
   ]
  },
  {
   "cell_type": "code",
   "execution_count": null,
   "id": "6548c004",
   "metadata": {
    "vscode": {
     "languageId": "r"
    }
   },
   "outputs": [],
   "source": [
    "# Get ADLS configuration from environment variables\n",
    "container <- Sys.getenv(\"DFL_CONTAINER\")\n",
    "storage_account <- Sys.getenv(\"DFL_STORAGE_ACCOUNT\")\n",
    "\n",
    "# Build ADLS path\n",
    "adls_path <- sprintf(\"abfss://%s@%s.dfs.core.windows.net/raw/nflverse/teams\",\n",
    "                    container,\n",
    "                    storage_account)\n",
    "\n",
    "# Load and save teams data with error handling\n",
    "tryCatch({\n",
    "    teams_data <- nflreadr::load_teams()\n",
    "    output_file <- file.path(adls_path, \"nfl_teams.parquet\")\n",
    "    print(paste(\"Attempting to save to:\", output_file))\n",
    "    \n",
    "    # Write directly to ADLS using arrow with ABFSS\n",
    "    write_parquet(teams_data, output_file)\n",
    "    print(\"File successfully written to ADLS\")\n",
    "    \n",
    "}, error = function(e) {\n",
    "    print(paste(\"Error:\", e$message))\n",
    "    stop(e)  # Re-throw the error to ensure the job fails if there's an issue\n",
    "})"
   ]
  }
 ],
 "metadata": {
  "language_info": {
   "name": "python"
  }
 },
 "nbformat": 4,
 "nbformat_minor": 5
}
